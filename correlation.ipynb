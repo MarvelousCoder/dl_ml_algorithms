{
 "cells": [
  {
   "cell_type": "code",
   "execution_count": 11,
   "metadata": {},
   "outputs": [],
   "source": [
    "import numpy as np\n",
    "from scipy import stats\n",
    "from scipy.stats import pearsonr"
   ]
  },
  {
   "cell_type": "code",
   "execution_count": 12,
   "metadata": {},
   "outputs": [
    {
     "name": "stdout",
     "output_type": "stream",
     "text": [
      "2.0\n"
     ]
    }
   ],
   "source": [
    "#Next we create a dataset by passing a list into Numpy array function.\n",
    "\n",
    "dataset = np.array([3, 1, 4, 1, 1])\n",
    "\n",
    "#We can easily calculate the mean , median and mode \n",
    "\n",
    "mean = np.mean(dataset)\n",
    "print(mean)"
   ]
  },
  {
   "cell_type": "code",
   "execution_count": 13,
   "metadata": {},
   "outputs": [
    {
     "name": "stdout",
     "output_type": "stream",
     "text": [
      "Median: 1.0\n"
     ]
    }
   ],
   "source": [
    "median = np.median(dataset)\n",
    "print('Median: {:.1f}'.format(median))"
   ]
  },
  {
   "cell_type": "code",
   "execution_count": 14,
   "metadata": {},
   "outputs": [
    {
     "name": "stdout",
     "output_type": "stream",
     "text": [
      "ModeResult(mode=array([1]), count=array([3]))\n",
      "Mode: 1\n",
      "1 appeared 3 times in the dataset\n"
     ]
    }
   ],
   "source": [
    "mode= stats.mode(dataset)\n",
    "print(mode)\n",
    "print('Mode: {}'.format(mode[0][0]))\n",
    "print('{} appeared {} times in the dataset'.format(mode[0][0], mode[1][0]))"
   ]
  },
  {
   "cell_type": "code",
   "execution_count": 26,
   "metadata": {},
   "outputs": [
    {
     "name": "stdout",
     "output_type": "stream",
     "text": [
      "[[ 0.00464056 -0.05884709]\n",
      " [-0.05884709  0.7462418 ]]\n"
     ]
    }
   ],
   "source": [
    "#Let us now see how covariance and correlation can be implemented in Python using Numpy and Scipy.\n",
    "\n",
    "import numpy as np\n",
    "x = np.random.normal(size=2)\n",
    "y = np.random.normal(size=2)\n",
    "\n",
    "#We stack x and y vertically to produce z using the line of code below.\n",
    "z = np.vstack((x, y))\n",
    "\n",
    "#The data in now in the correct form and we can pass it to Numpy covariance function.\n",
    "c = np.cov(z.T)\n",
    "print(c)\n",
    "\n",
    "a = [1,4,6]\n",
    "b = [1,2,3]\n"
   ]
  },
  {
   "cell_type": "code",
   "execution_count": 27,
   "metadata": {},
   "outputs": [
    {
     "name": "stdout",
     "output_type": "stream",
     "text": [
      "(0.9933992677987827, 0.07318639504032803)\n"
     ]
    }
   ],
   "source": [
    "corr = stats.pearsonr(a,b) # scipy.stats.pearsonr\n",
    "print(corr)"
   ]
  },
  {
   "cell_type": "code",
   "execution_count": null,
   "metadata": {},
   "outputs": [],
   "source": []
  }
 ],
 "metadata": {
  "kernelspec": {
   "display_name": "Python 3",
   "language": "python",
   "name": "python3"
  },
  "language_info": {
   "codemirror_mode": {
    "name": "ipython",
    "version": 3
   },
   "file_extension": ".py",
   "mimetype": "text/x-python",
   "name": "python",
   "nbconvert_exporter": "python",
   "pygments_lexer": "ipython3",
   "version": "3.7.3"
  }
 },
 "nbformat": 4,
 "nbformat_minor": 2
}
