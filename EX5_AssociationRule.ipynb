{
 "cells": [
  {
   "cell_type": "code",
   "execution_count": 4,
   "metadata": {},
   "outputs": [
    {
     "name": "stdout",
     "output_type": "stream",
     "text": [
      "Collecting apyori\n",
      "  Downloading https://files.pythonhosted.org/packages/25/fd/0561e2dd29aeed544bad2d1991636e38700cdaef9530490b863741f35295/apyori-1.1.1.tar.gz\n",
      "Building wheels for collected packages: apyori\n",
      "  Building wheel for apyori (setup.py) ... \u001b[?25ldone\n",
      "\u001b[?25h  Stored in directory: /Users/gstein/Library/Caches/pip/wheels/7b/2a/35/c0c3749c1a36d4f454ea22d8396e1b854b86340d63cbbb7949\n",
      "Successfully built apyori\n",
      "Installing collected packages: apyori\n",
      "Successfully installed apyori-1.1.1\n"
     ]
    }
   ],
   "source": [
    "# !pip install apyori"
   ]
  },
  {
   "cell_type": "code",
   "execution_count": 5,
   "metadata": {},
   "outputs": [
    {
     "name": "stdout",
     "output_type": "stream",
     "text": [
      "[\"RULE:\\tfrozenset({'light cream', 'chicken'})\\nSUPPORT:\\t0.004532728969470737\", \"RULE:\\tfrozenset({'mushroom cream sauce', 'escalope'})\\nSUPPORT:\\t0.005732568990801226\", \"RULE:\\tfrozenset({'pasta', 'escalope'})\\nSUPPORT:\\t0.005865884548726837\", \"RULE:\\tfrozenset({'fromage blanc', 'honey'})\\nSUPPORT:\\t0.003332888948140248\", \"RULE:\\tfrozenset({'herb & pepper', 'ground beef'})\\nSUPPORT:\\t0.015997866951073192\", \"RULE:\\tfrozenset({'ground beef', 'tomato sauce'})\\nSUPPORT:\\t0.005332622317024397\", \"RULE:\\tfrozenset({'light cream', 'olive oil'})\\nSUPPORT:\\t0.003199573390214638\", \"RULE:\\tfrozenset({'olive oil', 'whole wheat pasta'})\\nSUPPORT:\\t0.007998933475536596\", \"RULE:\\tfrozenset({'pasta', 'shrimp'})\\nSUPPORT:\\t0.005065991201173177\", \"RULE:\\tfrozenset({'milk', 'avocado', 'spaghetti'})\\nSUPPORT:\\t0.003332888948140248\", \"RULE:\\tfrozenset({'milk', 'burgers', 'cake'})\\nSUPPORT:\\t0.0037328356219170776\", \"RULE:\\tfrozenset({'turkey', 'burgers', 'chocolate'})\\nSUPPORT:\\t0.0030662578322890282\", \"RULE:\\tfrozenset({'milk', 'burgers', 'turkey'})\\nSUPPORT:\\t0.003199573390214638\", \"RULE:\\tfrozenset({'cake', 'frozen vegetables', 'tomatoes'})\\nSUPPORT:\\t0.0030662578322890282\", \"RULE:\\tfrozenset({'spaghetti', 'cereals', 'ground beef'})\\nSUPPORT:\\t0.0030662578322890282\", \"RULE:\\tfrozenset({'milk', 'ground beef', 'chicken'})\\nSUPPORT:\\t0.0038661511798426876\", \"RULE:\\tfrozenset({'light cream', 'chicken', 'nan'})\\nSUPPORT:\\t0.004532728969470737\", \"RULE:\\tfrozenset({'milk', 'chicken', 'olive oil'})\\nSUPPORT:\\t0.0035995200639914677\", \"RULE:\\tfrozenset({'spaghetti', 'chicken', 'olive oil'})\\nSUPPORT:\\t0.0034662045060658577\", \"RULE:\\tfrozenset({'shrimp', 'chocolate', 'frozen vegetables'})\\nSUPPORT:\\t0.005332622317024397\", \"RULE:\\tfrozenset({'herb & pepper', 'chocolate', 'ground beef'})\\nSUPPORT:\\t0.003999466737768298\", \"RULE:\\tfrozenset({'milk', 'soup', 'chocolate'})\\nSUPPORT:\\t0.003999466737768298\", \"RULE:\\tfrozenset({'spaghetti', 'cooking oil', 'ground beef'})\\nSUPPORT:\\t0.004799360085321957\", \"RULE:\\tfrozenset({'herb & pepper', 'ground beef', 'eggs'})\\nSUPPORT:\\t0.0041327822956939075\", \"RULE:\\tfrozenset({'spaghetti', 'eggs', 'red wine'})\\nSUPPORT:\\t0.0037328356219170776\", \"RULE:\\tfrozenset({'mushroom cream sauce', 'nan', 'escalope'})\\nSUPPORT:\\t0.005732568990801226\", \"RULE:\\tfrozenset({'pasta', 'nan', 'escalope'})\\nSUPPORT:\\t0.005865884548726837\", \"RULE:\\tfrozenset({'herb & pepper', 'ground beef', 'french fries'})\\nSUPPORT:\\t0.003199573390214638\", \"RULE:\\tfrozenset({'fromage blanc', 'nan', 'honey'})\\nSUPPORT:\\t0.003332888948140248\", \"RULE:\\tfrozenset({'green tea', 'frozen vegetables', 'tomatoes'})\\nSUPPORT:\\t0.003332888948140248\", \"RULE:\\tfrozenset({'spaghetti', 'frozen vegetables', 'ground beef'})\\nSUPPORT:\\t0.008665511265164644\", \"RULE:\\tfrozenset({'milk', 'frozen vegetables', 'olive oil'})\\nSUPPORT:\\t0.004799360085321957\", \"RULE:\\tfrozenset({'milk', 'soup', 'frozen vegetables'})\\nSUPPORT:\\t0.003999466737768298\", \"RULE:\\tfrozenset({'milk', 'frozen vegetables', 'tomatoes'})\\nSUPPORT:\\t0.0041327822956939075\", \"RULE:\\tfrozenset({'shrimp', 'frozen vegetables', 'mineral water'})\\nSUPPORT:\\t0.007199040127982935\", \"RULE:\\tfrozenset({'spaghetti', 'frozen vegetables', 'olive oil'})\\nSUPPORT:\\t0.005732568990801226\", \"RULE:\\tfrozenset({'shrimp', 'frozen vegetables', 'spaghetti'})\\nSUPPORT:\\t0.005999200106652446\", \"RULE:\\tfrozenset({'shrimp', 'frozen vegetables', 'tomatoes'})\\nSUPPORT:\\t0.003999466737768298\", \"RULE:\\tfrozenset({'spaghetti', 'frozen vegetables', 'tomatoes'})\\nSUPPORT:\\t0.006665777896280496\", \"RULE:\\tfrozenset({'spaghetti', 'ground beef', 'grated cheese'})\\nSUPPORT:\\t0.005332622317024397\", \"RULE:\\tfrozenset({'green tea', 'ground beef', 'tomatoes'})\\nSUPPORT:\\t0.0030662578322890282\", \"RULE:\\tfrozenset({'herb & pepper', 'milk', 'ground beef'})\\nSUPPORT:\\t0.0035995200639914677\", \"RULE:\\tfrozenset({'herb & pepper', 'ground beef', 'mineral water'})\\nSUPPORT:\\t0.006665777896280496\", \"RULE:\\tfrozenset({'herb & pepper', 'ground beef', 'nan'})\\nSUPPORT:\\t0.015997866951073192\", \"RULE:\\tfrozenset({'herb & pepper', 'spaghetti', 'ground beef'})\\nSUPPORT:\\t0.006399146780429276\", \"RULE:\\tfrozenset({'milk', 'ground beef', 'olive oil'})\\nSUPPORT:\\t0.004932675643247567\", \"RULE:\\tfrozenset({'milk', 'soup', 'ground beef'})\\nSUPPORT:\\t0.003999466737768298\", \"RULE:\\tfrozenset({'ground beef', 'tomato sauce', 'nan'})\\nSUPPORT:\\t0.005332622317024397\", \"RULE:\\tfrozenset({'pepper', 'ground beef', 'spaghetti'})\\nSUPPORT:\\t0.003332888948140248\", \"RULE:\\tfrozenset({'shrimp', 'ground beef', 'spaghetti'})\\nSUPPORT:\\t0.005999200106652446\", \"RULE:\\tfrozenset({'spaghetti', 'ground beef', 'tomato sauce'})\\nSUPPORT:\\t0.0030662578322890282\", \"RULE:\\tfrozenset({'light cream', 'olive oil', 'nan'})\\nSUPPORT:\\t0.003199573390214638\", \"RULE:\\tfrozenset({'milk', 'olive oil', 'shrimp'})\\nSUPPORT:\\t0.003199573390214638\", \"RULE:\\tfrozenset({'milk', 'soup', 'olive oil'})\\nSUPPORT:\\t0.0035995200639914677\", \"RULE:\\tfrozenset({'milk', 'spaghetti', 'olive oil'})\\nSUPPORT:\\t0.007199040127982935\", \"RULE:\\tfrozenset({'milk', 'soup', 'tomatoes'})\\nSUPPORT:\\t0.0030662578322890282\", \"RULE:\\tfrozenset({'milk', 'spaghetti', 'whole wheat pasta'})\\nSUPPORT:\\t0.003999466737768298\", \"RULE:\\tfrozenset({'soup', 'olive oil', 'mineral water'})\\nSUPPORT:\\t0.005199306759098787\", \"RULE:\\tfrozenset({'olive oil', 'mineral water', 'whole wheat pasta'})\\nSUPPORT:\\t0.0038661511798426876\", \"RULE:\\tfrozenset({'olive oil', 'nan', 'whole wheat pasta'})\\nSUPPORT:\\t0.007998933475536596\", \"RULE:\\tfrozenset({'pasta', 'nan', 'shrimp'})\\nSUPPORT:\\t0.005065991201173177\", \"RULE:\\tfrozenset({'pancakes', 'spaghetti', 'olive oil'})\\nSUPPORT:\\t0.005065991201173177\", \"RULE:\\tfrozenset({'spaghetti', 'olive oil', 'tomatoes'})\\nSUPPORT:\\t0.004399413411545127\", \"RULE:\\tfrozenset({'spaghetti', 'whole wheat rice', 'tomatoes'})\\nSUPPORT:\\t0.0030662578322890282\", \"RULE:\\tfrozenset({'milk', 'avocado', 'spaghetti', 'nan'})\\nSUPPORT:\\t0.003332888948140248\", \"RULE:\\tfrozenset({'milk', 'burgers', 'cake', 'nan'})\\nSUPPORT:\\t0.0037328356219170776\", \"RULE:\\tfrozenset({'turkey', 'burgers', 'nan', 'chocolate'})\\nSUPPORT:\\t0.0030662578322890282\", \"RULE:\\tfrozenset({'milk', 'burgers', 'nan', 'turkey'})\\nSUPPORT:\\t0.003199573390214638\", \"RULE:\\tfrozenset({'cake', 'frozen vegetables', 'tomatoes', 'nan'})\\nSUPPORT:\\t0.0030662578322890282\", \"RULE:\\tfrozenset({'spaghetti', 'cereals', 'nan', 'ground beef'})\\nSUPPORT:\\t0.0030662578322890282\", \"RULE:\\tfrozenset({'milk', 'ground beef', 'chicken', 'nan'})\\nSUPPORT:\\t0.0038661511798426876\", \"RULE:\\tfrozenset({'milk', 'olive oil', 'chicken', 'nan'})\\nSUPPORT:\\t0.0035995200639914677\", \"RULE:\\tfrozenset({'spaghetti', 'olive oil', 'chicken', 'nan'})\\nSUPPORT:\\t0.0034662045060658577\", \"RULE:\\tfrozenset({'chocolate', 'eggs', 'mineral water', 'ground beef'})\\nSUPPORT:\\t0.003999466737768298\", \"RULE:\\tfrozenset({'chocolate', 'frozen vegetables', 'mineral water', 'ground beef'})\\nSUPPORT:\\t0.003332888948140248\", \"RULE:\\tfrozenset({'spaghetti', 'chocolate', 'frozen vegetables', 'ground beef'})\\nSUPPORT:\\t0.0030662578322890282\", \"RULE:\\tfrozenset({'milk', 'chocolate', 'frozen vegetables', 'mineral water'})\\nSUPPORT:\\t0.003999466737768298\", \"RULE:\\tfrozenset({'milk', 'chocolate', 'frozen vegetables', 'spaghetti'})\\nSUPPORT:\\t0.0034662045060658577\", \"RULE:\\tfrozenset({'shrimp', 'chocolate', 'frozen vegetables', 'mineral water'})\\nSUPPORT:\\t0.003199573390214638\", \"RULE:\\tfrozenset({'shrimp', 'chocolate', 'frozen vegetables', 'nan'})\\nSUPPORT:\\t0.005332622317024397\", \"RULE:\\tfrozenset({'herb & pepper', 'chocolate', 'nan', 'ground beef'})\\nSUPPORT:\\t0.003999466737768298\", \"RULE:\\tfrozenset({'milk', 'soup', 'chocolate', 'nan'})\\nSUPPORT:\\t0.003999466737768298\", \"RULE:\\tfrozenset({'spaghetti', 'chocolate', 'olive oil', 'mineral water'})\\nSUPPORT:\\t0.0038661511798426876\", \"RULE:\\tfrozenset({'shrimp', 'chocolate', 'spaghetti', 'mineral water'})\\nSUPPORT:\\t0.0034662045060658577\", \"RULE:\\tfrozenset({'spaghetti', 'cooking oil', 'ground beef', 'nan'})\\nSUPPORT:\\t0.004799360085321957\", \"RULE:\\tfrozenset({'milk', 'frozen vegetables', 'eggs', 'mineral water'})\\nSUPPORT:\\t0.0037328356219170776\", \"RULE:\\tfrozenset({'herb & pepper', 'ground beef', 'eggs', 'nan'})\\nSUPPORT:\\t0.0041327822956939075\", \"RULE:\\tfrozenset({'spaghetti', 'eggs', 'red wine', 'nan'})\\nSUPPORT:\\t0.0037328356219170776\", \"RULE:\\tfrozenset({'herb & pepper', 'ground beef', 'french fries', 'nan'})\\nSUPPORT:\\t0.003199573390214638\", \"RULE:\\tfrozenset({'mineral water', 'frozen smoothie', 'spaghetti', 'milk'})\\nSUPPORT:\\t0.003199573390214638\", \"RULE:\\tfrozenset({'green tea', 'frozen vegetables', 'tomatoes', 'nan'})\\nSUPPORT:\\t0.003332888948140248\", \"RULE:\\tfrozenset({'milk', 'frozen vegetables', 'mineral water', 'ground beef'})\\nSUPPORT:\\t0.0037328356219170776\", \"RULE:\\tfrozenset({'milk', 'frozen vegetables', 'spaghetti', 'ground beef'})\\nSUPPORT:\\t0.0030662578322890282\", \"RULE:\\tfrozenset({'spaghetti', 'frozen vegetables', 'mineral water', 'ground beef'})\\nSUPPORT:\\t0.004399413411545127\", \"RULE:\\tfrozenset({'spaghetti', 'frozen vegetables', 'nan', 'ground beef'})\\nSUPPORT:\\t0.008665511265164644\", \"RULE:\\tfrozenset({'milk', 'frozen vegetables', 'olive oil', 'mineral water'})\\nSUPPORT:\\t0.003332888948140248\", \"RULE:\\tfrozenset({'milk', 'soup', 'frozen vegetables', 'mineral water'})\\nSUPPORT:\\t0.0030662578322890282\", \"RULE:\\tfrozenset({'milk', 'frozen vegetables', 'spaghetti', 'mineral water'})\\nSUPPORT:\\t0.004532728969470737\", \"RULE:\\tfrozenset({'milk', 'frozen vegetables', 'olive oil', 'nan'})\\nSUPPORT:\\t0.004799360085321957\", \"RULE:\\tfrozenset({'milk', 'soup', 'frozen vegetables', 'nan'})\\nSUPPORT:\\t0.003999466737768298\", \"RULE:\\tfrozenset({'milk', 'frozen vegetables', 'tomatoes', 'nan'})\\nSUPPORT:\\t0.0041327822956939075\", \"RULE:\\tfrozenset({'nan', 'shrimp', 'frozen vegetables', 'mineral water'})\\nSUPPORT:\\t0.007199040127982935\", \"RULE:\\tfrozenset({'shrimp', 'frozen vegetables', 'spaghetti', 'mineral water'})\\nSUPPORT:\\t0.003332888948140248\", \"RULE:\\tfrozenset({'spaghetti', 'frozen vegetables', 'tomatoes', 'mineral water'})\\nSUPPORT:\\t0.0030662578322890282\", \"RULE:\\tfrozenset({'spaghetti', 'frozen vegetables', 'olive oil', 'nan'})\\nSUPPORT:\\t0.005732568990801226\", \"RULE:\\tfrozenset({'shrimp', 'frozen vegetables', 'spaghetti', 'nan'})\\nSUPPORT:\\t0.005999200106652446\", \"RULE:\\tfrozenset({'shrimp', 'frozen vegetables', 'tomatoes', 'nan'})\\nSUPPORT:\\t0.003999466737768298\", \"RULE:\\tfrozenset({'spaghetti', 'frozen vegetables', 'tomatoes', 'nan'})\\nSUPPORT:\\t0.006665777896280496\", \"RULE:\\tfrozenset({'spaghetti', 'ground beef', 'nan', 'grated cheese'})\\nSUPPORT:\\t0.005332622317024397\", \"RULE:\\tfrozenset({'green tea', 'ground beef', 'tomatoes', 'nan'})\\nSUPPORT:\\t0.0030662578322890282\", \"RULE:\\tfrozenset({'herb & pepper', 'milk', 'ground beef', 'nan'})\\nSUPPORT:\\t0.0035995200639914677\", \"RULE:\\tfrozenset({'herb & pepper', 'nan', 'ground beef', 'mineral water'})\\nSUPPORT:\\t0.006665777896280496\", \"RULE:\\tfrozenset({'herb & pepper', 'spaghetti', 'ground beef', 'nan'})\\nSUPPORT:\\t0.006399146780429276\", \"RULE:\\tfrozenset({'milk', 'ground beef', 'olive oil', 'nan'})\\nSUPPORT:\\t0.004932675643247567\", \"RULE:\\tfrozenset({'milk', 'soup', 'ground beef', 'nan'})\\nSUPPORT:\\t0.003999466737768298\", \"RULE:\\tfrozenset({'spaghetti', 'ground beef', 'olive oil', 'mineral water'})\\nSUPPORT:\\t0.0030662578322890282\", \"RULE:\\tfrozenset({'spaghetti', 'ground beef', 'tomatoes', 'mineral water'})\\nSUPPORT:\\t0.0030662578322890282\", \"RULE:\\tfrozenset({'pepper', 'ground beef', 'spaghetti', 'nan'})\\nSUPPORT:\\t0.003332888948140248\", \"RULE:\\tfrozenset({'shrimp', 'ground beef', 'spaghetti', 'nan'})\\nSUPPORT:\\t0.005999200106652446\", \"RULE:\\tfrozenset({'spaghetti', 'ground beef', 'tomato sauce', 'nan'})\\nSUPPORT:\\t0.0030662578322890282\", \"RULE:\\tfrozenset({'milk', 'spaghetti', 'olive oil', 'mineral water'})\\nSUPPORT:\\t0.003332888948140248\", \"RULE:\\tfrozenset({'milk', 'spaghetti', 'tomatoes', 'mineral water'})\\nSUPPORT:\\t0.003332888948140248\", \"RULE:\\tfrozenset({'milk', 'olive oil', 'nan', 'shrimp'})\\nSUPPORT:\\t0.003199573390214638\", \"RULE:\\tfrozenset({'milk', 'soup', 'olive oil', 'nan'})\\nSUPPORT:\\t0.0035995200639914677\", \"RULE:\\tfrozenset({'milk', 'spaghetti', 'olive oil', 'nan'})\\nSUPPORT:\\t0.007199040127982935\", \"RULE:\\tfrozenset({'milk', 'soup', 'tomatoes', 'nan'})\\nSUPPORT:\\t0.0030662578322890282\", \"RULE:\\tfrozenset({'milk', 'spaghetti', 'nan', 'whole wheat pasta'})\\nSUPPORT:\\t0.003999466737768298\", \"RULE:\\tfrozenset({'nan', 'soup', 'olive oil', 'mineral water'})\\nSUPPORT:\\t0.005199306759098787\", \"RULE:\\tfrozenset({'nan', 'olive oil', 'mineral water', 'whole wheat pasta'})\\nSUPPORT:\\t0.0038661511798426876\", \"RULE:\\tfrozenset({'pancakes', 'spaghetti', 'olive oil', 'nan'})\\nSUPPORT:\\t0.005065991201173177\", \"RULE:\\tfrozenset({'spaghetti', 'tomatoes', 'olive oil', 'nan'})\\nSUPPORT:\\t0.004399413411545127\", \"RULE:\\tfrozenset({'spaghetti', 'whole wheat rice', 'tomatoes', 'nan'})\\nSUPPORT:\\t0.0030662578322890282\", \"RULE:\\tfrozenset({'chocolate', 'eggs', 'ground beef', 'mineral water', 'nan'})\\nSUPPORT:\\t0.003999466737768298\", \"RULE:\\tfrozenset({'chocolate', 'ground beef', 'mineral water', 'frozen vegetables', 'nan'})\\nSUPPORT:\\t0.003332888948140248\", \"RULE:\\tfrozenset({'spaghetti', 'chocolate', 'ground beef', 'frozen vegetables', 'nan'})\\nSUPPORT:\\t0.0030662578322890282\", \"RULE:\\tfrozenset({'milk', 'chocolate', 'mineral water', 'frozen vegetables', 'nan'})\\nSUPPORT:\\t0.003999466737768298\", \"RULE:\\tfrozenset({'milk', 'spaghetti', 'chocolate', 'frozen vegetables', 'nan'})\\nSUPPORT:\\t0.0034662045060658577\", \"RULE:\\tfrozenset({'shrimp', 'chocolate', 'mineral water', 'frozen vegetables', 'nan'})\\nSUPPORT:\\t0.003199573390214638\", \"RULE:\\tfrozenset({'spaghetti', 'chocolate', 'olive oil', 'mineral water', 'nan'})\\nSUPPORT:\\t0.0038661511798426876\", \"RULE:\\tfrozenset({'shrimp', 'spaghetti', 'chocolate', 'mineral water', 'nan'})\\nSUPPORT:\\t0.0034662045060658577\", \"RULE:\\tfrozenset({'milk', 'eggs', 'mineral water', 'frozen vegetables', 'nan'})\\nSUPPORT:\\t0.0037328356219170776\", \"RULE:\\tfrozenset({'frozen smoothie', 'nan', 'spaghetti', 'milk', 'mineral water'})\\nSUPPORT:\\t0.003199573390214638\", \"RULE:\\tfrozenset({'milk', 'ground beef', 'mineral water', 'frozen vegetables', 'nan'})\\nSUPPORT:\\t0.0037328356219170776\", \"RULE:\\tfrozenset({'milk', 'spaghetti', 'ground beef', 'frozen vegetables', 'nan'})\\nSUPPORT:\\t0.0030662578322890282\", \"RULE:\\tfrozenset({'spaghetti', 'ground beef', 'mineral water', 'frozen vegetables', 'nan'})\\nSUPPORT:\\t0.004399413411545127\", \"RULE:\\tfrozenset({'milk', 'olive oil', 'mineral water', 'frozen vegetables', 'nan'})\\nSUPPORT:\\t0.003332888948140248\", \"RULE:\\tfrozenset({'soup', 'milk', 'mineral water', 'frozen vegetables', 'nan'})\\nSUPPORT:\\t0.0030662578322890282\", \"RULE:\\tfrozenset({'milk', 'spaghetti', 'mineral water', 'frozen vegetables', 'nan'})\\nSUPPORT:\\t0.004532728969470737\", \"RULE:\\tfrozenset({'shrimp', 'spaghetti', 'mineral water', 'frozen vegetables', 'nan'})\\nSUPPORT:\\t0.003332888948140248\", \"RULE:\\tfrozenset({'spaghetti', 'tomatoes', 'mineral water', 'frozen vegetables', 'nan'})\\nSUPPORT:\\t0.0030662578322890282\", \"RULE:\\tfrozenset({'spaghetti', 'ground beef', 'olive oil', 'mineral water', 'nan'})\\nSUPPORT:\\t0.0030662578322890282\", \"RULE:\\tfrozenset({'spaghetti', 'ground beef', 'tomatoes', 'mineral water', 'nan'})\\nSUPPORT:\\t0.0030662578322890282\", \"RULE:\\tfrozenset({'milk', 'spaghetti', 'olive oil', 'mineral water', 'nan'})\\nSUPPORT:\\t0.003332888948140248\", \"RULE:\\tfrozenset({'milk', 'spaghetti', 'tomatoes', 'mineral water', 'nan'})\\nSUPPORT:\\t0.003332888948140248\"]\n"
     ]
    }
   ],
   "source": [
    "import pandas as pd\n",
    "dataset = pd.read_csv('Market_Basket_Optimisation.csv', header = None)\n",
    "\n",
    "transactions = []\n",
    "for i in range(0, 7501):\n",
    "    transactions.append([str(dataset.values[i,j]) for j in range(0, 20)])\n",
    "\n",
    "# reference: https://pypi.org/project/apyori/#description\n",
    "\n",
    "from apyori import apriori\n",
    "rules = apriori(transactions, min_support = 0.003, min_confidence = 0.2, min_lift = 3, min_length = 2)\n",
    "results = list(rules)\n",
    "results_list = []\n",
    "for i in range(0, len(results)):\n",
    "    results_list.append('RULE:\\t' + str(results[i][0]) + '\\nSUPPORT:\\t' + str(results[i][1]))\n",
    "print (results_list)"
   ]
  },
  {
   "cell_type": "code",
   "execution_count": 4,
   "metadata": {},
   "outputs": [
    {
     "data": {
      "text/plain": [
       "[RelationRecord(items=frozenset({'beer'}), support=1.0, ordered_statistics=[OrderedStatistic(items_base=frozenset(), items_add=frozenset({'beer'}), confidence=1.0, lift=1.0)]),\n",
       " RelationRecord(items=frozenset({'coke'}), support=0.3333333333333333, ordered_statistics=[OrderedStatistic(items_base=frozenset(), items_add=frozenset({'coke'}), confidence=0.3333333333333333, lift=1.0)]),\n",
       " RelationRecord(items=frozenset({'nuts'}), support=0.6666666666666666, ordered_statistics=[OrderedStatistic(items_base=frozenset(), items_add=frozenset({'nuts'}), confidence=0.6666666666666666, lift=1.0)]),\n",
       " RelationRecord(items=frozenset({'coke', 'beer'}), support=0.3333333333333333, ordered_statistics=[OrderedStatistic(items_base=frozenset({'beer'}), items_add=frozenset({'coke'}), confidence=0.3333333333333333, lift=1.0), OrderedStatistic(items_base=frozenset({'coke'}), items_add=frozenset({'beer'}), confidence=1.0, lift=1.0)]),\n",
       " RelationRecord(items=frozenset({'nuts', 'beer'}), support=0.6666666666666666, ordered_statistics=[OrderedStatistic(items_base=frozenset({'beer'}), items_add=frozenset({'nuts'}), confidence=0.6666666666666666, lift=1.0), OrderedStatistic(items_base=frozenset({'nuts'}), items_add=frozenset({'beer'}), confidence=1.0, lift=1.0)])]"
      ]
     },
     "execution_count": 4,
     "metadata": {},
     "output_type": "execute_result"
    }
   ],
   "source": [
    "from apyori import apriori\n",
    "\n",
    "transactions = [\n",
    "    ['beer', 'nuts'],\n",
    "    ['beer', 'nuts'],\n",
    "    ['beer', 'coke'],\n",
    "]\n",
    "results = list(apriori(transactions))\n",
    "results"
   ]
  },
  {
   "cell_type": "code",
   "execution_count": null,
   "metadata": {},
   "outputs": [],
   "source": []
  }
 ],
 "metadata": {
  "kernelspec": {
   "display_name": "Python 3",
   "language": "python",
   "name": "python3"
  },
  "language_info": {
   "codemirror_mode": {
    "name": "ipython",
    "version": 3
   },
   "file_extension": ".py",
   "mimetype": "text/x-python",
   "name": "python",
   "nbconvert_exporter": "python",
   "pygments_lexer": "ipython3",
   "version": "3.7.3"
  }
 },
 "nbformat": 4,
 "nbformat_minor": 2
}
